{
  "cells": [
    {
      "cell_type": "markdown",
      "id": "4a027d5e",
      "metadata": {
        "id": "4a027d5e"
      },
      "source": [
        "# Project Title :-  \"Analyzing Amazon Sales data\""
      ]
    },
    {
      "cell_type": "markdown",
      "id": "3ef17708",
      "metadata": {
        "id": "3ef17708"
      },
      "source": [
        "Importing Libraries"
      ]
    },
    {
      "cell_type": "code",
      "execution_count": 1,
      "id": "ad39164a",
      "metadata": {
        "id": "ad39164a"
      },
      "outputs": [],
      "source": [
        "import pandas as pd\n",
        "import numpy as np\n",
        "import seaborn as sns\n",
        "import matplotlib.pyplot as plt\n"
      ]
    },
    {
      "cell_type": "markdown",
      "id": "45d6dd6b",
      "metadata": {
        "id": "45d6dd6b"
      },
      "source": [
        "Reading the DataFrame"
      ]
    },
    {
      "cell_type": "code",
      "execution_count": 3,
      "id": "aaec7fd9",
      "metadata": {
        "colab": {
          "base_uri": "https://localhost:8080/",
          "height": 800
        },
        "id": "aaec7fd9",
        "outputId": "10523273-3e58-4877-8ffe-6e038f8d785f"
      },
      "outputs": [
        {
          "output_type": "execute_result",
          "data": {
            "text/plain": [
              "                               Region                Country        Item Type  \\\n",
              "0               Australia and Oceania                 Tuvalu        Baby Food   \n",
              "1   Central America and the Caribbean                Grenada           Cereal   \n",
              "2                              Europe                 Russia  Office Supplies   \n",
              "3                  Sub-Saharan Africa  Sao Tome and Principe           Fruits   \n",
              "4                  Sub-Saharan Africa                 Rwanda  Office Supplies   \n",
              "..                                ...                    ...              ...   \n",
              "95                 Sub-Saharan Africa                   Mali          Clothes   \n",
              "96                               Asia               Malaysia           Fruits   \n",
              "97                 Sub-Saharan Africa           Sierra Leone       Vegetables   \n",
              "98                      North America                 Mexico    Personal Care   \n",
              "99                 Sub-Saharan Africa             Mozambique        Household   \n",
              "\n",
              "   Sales Channel Order Priority  Order Date   Order ID   Ship Date  \\\n",
              "0        Offline              H   5/28/2010  669165933   6/27/2010   \n",
              "1         Online              C   8/22/2012  963881480   9/15/2012   \n",
              "2        Offline              L    5/2/2014  341417157    5/8/2014   \n",
              "3         Online              C   6/20/2014  514321792    7/5/2014   \n",
              "4        Offline              L    2/1/2013  115456712    2/6/2013   \n",
              "..           ...            ...         ...        ...         ...   \n",
              "95        Online              M   7/26/2011  512878119    9/3/2011   \n",
              "96       Offline              L  11/11/2011  810711038  12/28/2011   \n",
              "97       Offline              C    6/1/2016  728815257   6/29/2016   \n",
              "98       Offline              M   7/30/2015  559427106    8/8/2015   \n",
              "99       Offline              L   2/10/2012  665095412   2/15/2012   \n",
              "\n",
              "    Units Sold  Unit Price  Unit Cost  Total Revenue  Total Cost  Total Profit  \n",
              "0         9925      255.28     159.42     2533654.00  1582243.50     951410.50  \n",
              "1         2804      205.70     117.11      576782.80   328376.44     248406.36  \n",
              "2         1779      651.21     524.96     1158502.59   933903.84     224598.75  \n",
              "3         8102        9.33       6.92       75591.66    56065.84      19525.82  \n",
              "4         5062      651.21     524.96     3296425.02  2657347.52     639077.50  \n",
              "..         ...         ...        ...            ...         ...           ...  \n",
              "95         888      109.28      35.84       97040.64    31825.92      65214.72  \n",
              "96        6267        9.33       6.92       58471.11    43367.64      15103.47  \n",
              "97        1485      154.06      90.93      228779.10   135031.05      93748.05  \n",
              "98        5767       81.73      56.67      471336.91   326815.89     144521.02  \n",
              "99        5367      668.27     502.54     3586605.09  2697132.18     889472.91  \n",
              "\n",
              "[100 rows x 14 columns]"
            ],
            "text/html": [
              "\n",
              "  <div id=\"df-e24c46eb-fe78-4645-9cdc-8cef1a3529ba\">\n",
              "    <div class=\"colab-df-container\">\n",
              "      <div>\n",
              "<style scoped>\n",
              "    .dataframe tbody tr th:only-of-type {\n",
              "        vertical-align: middle;\n",
              "    }\n",
              "\n",
              "    .dataframe tbody tr th {\n",
              "        vertical-align: top;\n",
              "    }\n",
              "\n",
              "    .dataframe thead th {\n",
              "        text-align: right;\n",
              "    }\n",
              "</style>\n",
              "<table border=\"1\" class=\"dataframe\">\n",
              "  <thead>\n",
              "    <tr style=\"text-align: right;\">\n",
              "      <th></th>\n",
              "      <th>Region</th>\n",
              "      <th>Country</th>\n",
              "      <th>Item Type</th>\n",
              "      <th>Sales Channel</th>\n",
              "      <th>Order Priority</th>\n",
              "      <th>Order Date</th>\n",
              "      <th>Order ID</th>\n",
              "      <th>Ship Date</th>\n",
              "      <th>Units Sold</th>\n",
              "      <th>Unit Price</th>\n",
              "      <th>Unit Cost</th>\n",
              "      <th>Total Revenue</th>\n",
              "      <th>Total Cost</th>\n",
              "      <th>Total Profit</th>\n",
              "    </tr>\n",
              "  </thead>\n",
              "  <tbody>\n",
              "    <tr>\n",
              "      <th>0</th>\n",
              "      <td>Australia and Oceania</td>\n",
              "      <td>Tuvalu</td>\n",
              "      <td>Baby Food</td>\n",
              "      <td>Offline</td>\n",
              "      <td>H</td>\n",
              "      <td>5/28/2010</td>\n",
              "      <td>669165933</td>\n",
              "      <td>6/27/2010</td>\n",
              "      <td>9925</td>\n",
              "      <td>255.28</td>\n",
              "      <td>159.42</td>\n",
              "      <td>2533654.00</td>\n",
              "      <td>1582243.50</td>\n",
              "      <td>951410.50</td>\n",
              "    </tr>\n",
              "    <tr>\n",
              "      <th>1</th>\n",
              "      <td>Central America and the Caribbean</td>\n",
              "      <td>Grenada</td>\n",
              "      <td>Cereal</td>\n",
              "      <td>Online</td>\n",
              "      <td>C</td>\n",
              "      <td>8/22/2012</td>\n",
              "      <td>963881480</td>\n",
              "      <td>9/15/2012</td>\n",
              "      <td>2804</td>\n",
              "      <td>205.70</td>\n",
              "      <td>117.11</td>\n",
              "      <td>576782.80</td>\n",
              "      <td>328376.44</td>\n",
              "      <td>248406.36</td>\n",
              "    </tr>\n",
              "    <tr>\n",
              "      <th>2</th>\n",
              "      <td>Europe</td>\n",
              "      <td>Russia</td>\n",
              "      <td>Office Supplies</td>\n",
              "      <td>Offline</td>\n",
              "      <td>L</td>\n",
              "      <td>5/2/2014</td>\n",
              "      <td>341417157</td>\n",
              "      <td>5/8/2014</td>\n",
              "      <td>1779</td>\n",
              "      <td>651.21</td>\n",
              "      <td>524.96</td>\n",
              "      <td>1158502.59</td>\n",
              "      <td>933903.84</td>\n",
              "      <td>224598.75</td>\n",
              "    </tr>\n",
              "    <tr>\n",
              "      <th>3</th>\n",
              "      <td>Sub-Saharan Africa</td>\n",
              "      <td>Sao Tome and Principe</td>\n",
              "      <td>Fruits</td>\n",
              "      <td>Online</td>\n",
              "      <td>C</td>\n",
              "      <td>6/20/2014</td>\n",
              "      <td>514321792</td>\n",
              "      <td>7/5/2014</td>\n",
              "      <td>8102</td>\n",
              "      <td>9.33</td>\n",
              "      <td>6.92</td>\n",
              "      <td>75591.66</td>\n",
              "      <td>56065.84</td>\n",
              "      <td>19525.82</td>\n",
              "    </tr>\n",
              "    <tr>\n",
              "      <th>4</th>\n",
              "      <td>Sub-Saharan Africa</td>\n",
              "      <td>Rwanda</td>\n",
              "      <td>Office Supplies</td>\n",
              "      <td>Offline</td>\n",
              "      <td>L</td>\n",
              "      <td>2/1/2013</td>\n",
              "      <td>115456712</td>\n",
              "      <td>2/6/2013</td>\n",
              "      <td>5062</td>\n",
              "      <td>651.21</td>\n",
              "      <td>524.96</td>\n",
              "      <td>3296425.02</td>\n",
              "      <td>2657347.52</td>\n",
              "      <td>639077.50</td>\n",
              "    </tr>\n",
              "    <tr>\n",
              "      <th>...</th>\n",
              "      <td>...</td>\n",
              "      <td>...</td>\n",
              "      <td>...</td>\n",
              "      <td>...</td>\n",
              "      <td>...</td>\n",
              "      <td>...</td>\n",
              "      <td>...</td>\n",
              "      <td>...</td>\n",
              "      <td>...</td>\n",
              "      <td>...</td>\n",
              "      <td>...</td>\n",
              "      <td>...</td>\n",
              "      <td>...</td>\n",
              "      <td>...</td>\n",
              "    </tr>\n",
              "    <tr>\n",
              "      <th>95</th>\n",
              "      <td>Sub-Saharan Africa</td>\n",
              "      <td>Mali</td>\n",
              "      <td>Clothes</td>\n",
              "      <td>Online</td>\n",
              "      <td>M</td>\n",
              "      <td>7/26/2011</td>\n",
              "      <td>512878119</td>\n",
              "      <td>9/3/2011</td>\n",
              "      <td>888</td>\n",
              "      <td>109.28</td>\n",
              "      <td>35.84</td>\n",
              "      <td>97040.64</td>\n",
              "      <td>31825.92</td>\n",
              "      <td>65214.72</td>\n",
              "    </tr>\n",
              "    <tr>\n",
              "      <th>96</th>\n",
              "      <td>Asia</td>\n",
              "      <td>Malaysia</td>\n",
              "      <td>Fruits</td>\n",
              "      <td>Offline</td>\n",
              "      <td>L</td>\n",
              "      <td>11/11/2011</td>\n",
              "      <td>810711038</td>\n",
              "      <td>12/28/2011</td>\n",
              "      <td>6267</td>\n",
              "      <td>9.33</td>\n",
              "      <td>6.92</td>\n",
              "      <td>58471.11</td>\n",
              "      <td>43367.64</td>\n",
              "      <td>15103.47</td>\n",
              "    </tr>\n",
              "    <tr>\n",
              "      <th>97</th>\n",
              "      <td>Sub-Saharan Africa</td>\n",
              "      <td>Sierra Leone</td>\n",
              "      <td>Vegetables</td>\n",
              "      <td>Offline</td>\n",
              "      <td>C</td>\n",
              "      <td>6/1/2016</td>\n",
              "      <td>728815257</td>\n",
              "      <td>6/29/2016</td>\n",
              "      <td>1485</td>\n",
              "      <td>154.06</td>\n",
              "      <td>90.93</td>\n",
              "      <td>228779.10</td>\n",
              "      <td>135031.05</td>\n",
              "      <td>93748.05</td>\n",
              "    </tr>\n",
              "    <tr>\n",
              "      <th>98</th>\n",
              "      <td>North America</td>\n",
              "      <td>Mexico</td>\n",
              "      <td>Personal Care</td>\n",
              "      <td>Offline</td>\n",
              "      <td>M</td>\n",
              "      <td>7/30/2015</td>\n",
              "      <td>559427106</td>\n",
              "      <td>8/8/2015</td>\n",
              "      <td>5767</td>\n",
              "      <td>81.73</td>\n",
              "      <td>56.67</td>\n",
              "      <td>471336.91</td>\n",
              "      <td>326815.89</td>\n",
              "      <td>144521.02</td>\n",
              "    </tr>\n",
              "    <tr>\n",
              "      <th>99</th>\n",
              "      <td>Sub-Saharan Africa</td>\n",
              "      <td>Mozambique</td>\n",
              "      <td>Household</td>\n",
              "      <td>Offline</td>\n",
              "      <td>L</td>\n",
              "      <td>2/10/2012</td>\n",
              "      <td>665095412</td>\n",
              "      <td>2/15/2012</td>\n",
              "      <td>5367</td>\n",
              "      <td>668.27</td>\n",
              "      <td>502.54</td>\n",
              "      <td>3586605.09</td>\n",
              "      <td>2697132.18</td>\n",
              "      <td>889472.91</td>\n",
              "    </tr>\n",
              "  </tbody>\n",
              "</table>\n",
              "<p>100 rows × 14 columns</p>\n",
              "</div>\n",
              "      <button class=\"colab-df-convert\" onclick=\"convertToInteractive('df-e24c46eb-fe78-4645-9cdc-8cef1a3529ba')\"\n",
              "              title=\"Convert this dataframe to an interactive table.\"\n",
              "              style=\"display:none;\">\n",
              "        \n",
              "  <svg xmlns=\"http://www.w3.org/2000/svg\" height=\"24px\"viewBox=\"0 0 24 24\"\n",
              "       width=\"24px\">\n",
              "    <path d=\"M0 0h24v24H0V0z\" fill=\"none\"/>\n",
              "    <path d=\"M18.56 5.44l.94 2.06.94-2.06 2.06-.94-2.06-.94-.94-2.06-.94 2.06-2.06.94zm-11 1L8.5 8.5l.94-2.06 2.06-.94-2.06-.94L8.5 2.5l-.94 2.06-2.06.94zm10 10l.94 2.06.94-2.06 2.06-.94-2.06-.94-.94-2.06-.94 2.06-2.06.94z\"/><path d=\"M17.41 7.96l-1.37-1.37c-.4-.4-.92-.59-1.43-.59-.52 0-1.04.2-1.43.59L10.3 9.45l-7.72 7.72c-.78.78-.78 2.05 0 2.83L4 21.41c.39.39.9.59 1.41.59.51 0 1.02-.2 1.41-.59l7.78-7.78 2.81-2.81c.8-.78.8-2.07 0-2.86zM5.41 20L4 18.59l7.72-7.72 1.47 1.35L5.41 20z\"/>\n",
              "  </svg>\n",
              "      </button>\n",
              "      \n",
              "  <style>\n",
              "    .colab-df-container {\n",
              "      display:flex;\n",
              "      flex-wrap:wrap;\n",
              "      gap: 12px;\n",
              "    }\n",
              "\n",
              "    .colab-df-convert {\n",
              "      background-color: #E8F0FE;\n",
              "      border: none;\n",
              "      border-radius: 50%;\n",
              "      cursor: pointer;\n",
              "      display: none;\n",
              "      fill: #1967D2;\n",
              "      height: 32px;\n",
              "      padding: 0 0 0 0;\n",
              "      width: 32px;\n",
              "    }\n",
              "\n",
              "    .colab-df-convert:hover {\n",
              "      background-color: #E2EBFA;\n",
              "      box-shadow: 0px 1px 2px rgba(60, 64, 67, 0.3), 0px 1px 3px 1px rgba(60, 64, 67, 0.15);\n",
              "      fill: #174EA6;\n",
              "    }\n",
              "\n",
              "    [theme=dark] .colab-df-convert {\n",
              "      background-color: #3B4455;\n",
              "      fill: #D2E3FC;\n",
              "    }\n",
              "\n",
              "    [theme=dark] .colab-df-convert:hover {\n",
              "      background-color: #434B5C;\n",
              "      box-shadow: 0px 1px 3px 1px rgba(0, 0, 0, 0.15);\n",
              "      filter: drop-shadow(0px 1px 2px rgba(0, 0, 0, 0.3));\n",
              "      fill: #FFFFFF;\n",
              "    }\n",
              "  </style>\n",
              "\n",
              "      <script>\n",
              "        const buttonEl =\n",
              "          document.querySelector('#df-e24c46eb-fe78-4645-9cdc-8cef1a3529ba button.colab-df-convert');\n",
              "        buttonEl.style.display =\n",
              "          google.colab.kernel.accessAllowed ? 'block' : 'none';\n",
              "\n",
              "        async function convertToInteractive(key) {\n",
              "          const element = document.querySelector('#df-e24c46eb-fe78-4645-9cdc-8cef1a3529ba');\n",
              "          const dataTable =\n",
              "            await google.colab.kernel.invokeFunction('convertToInteractive',\n",
              "                                                     [key], {});\n",
              "          if (!dataTable) return;\n",
              "\n",
              "          const docLinkHtml = 'Like what you see? Visit the ' +\n",
              "            '<a target=\"_blank\" href=https://colab.research.google.com/notebooks/data_table.ipynb>data table notebook</a>'\n",
              "            + ' to learn more about interactive tables.';\n",
              "          element.innerHTML = '';\n",
              "          dataTable['output_type'] = 'display_data';\n",
              "          await google.colab.output.renderOutput(dataTable, element);\n",
              "          const docLink = document.createElement('div');\n",
              "          docLink.innerHTML = docLinkHtml;\n",
              "          element.appendChild(docLink);\n",
              "        }\n",
              "      </script>\n",
              "    </div>\n",
              "  </div>\n",
              "  "
            ]
          },
          "metadata": {},
          "execution_count": 3
        }
      ],
      "source": [
        "data = pd.read_csv('/content/2. Amazon Sales data.csv')\n",
        "data"
      ]
    },
    {
      "cell_type": "markdown",
      "id": "a89eeca7",
      "metadata": {
        "id": "a89eeca7"
      },
      "source": [
        "This the dataset of Amazon sales with 100 rows and 14 columns"
      ]
    },
    {
      "cell_type": "markdown",
      "id": "07b73b9d",
      "metadata": {
        "id": "07b73b9d"
      },
      "source": [
        "Details table columns:\n",
        "\n",
        "    Region:Countinent from where the product is ordered \n",
        "    Country:Country is the place where order ordered\n",
        "    Item Type:Name of the product type\n",
        "    Sales Channel:Type of mode ,how the order is ordered i.e offline or online\n",
        "    Order Priority:\n",
        "    Order Date:Order Date means the date on which Order becomes final.\n",
        "\n",
        "    Order ID : An Order ID is the number system that Amazon uses exclusively to keep track of orders.   \n",
        "               Each order receives its own Order ID that will not be duplicated. \n",
        "               This number can be useful to the seller when attempting to find out certain details about an \n",
        "               order such as shipment date or status.  \n",
        "    Ship Date: The date that the order is shipped from the seller or warehouse to the customer. \n",
        "    Units Sold:Represent the total sales of a product in a given period.\n",
        "    Unit Price:A unit price is the price for one item.\n",
        "    Unit Cost:A unit cost is a total expenditure incurred by a company to produce, store, and \n",
        "              sell one unit of a particular product or service.\n",
        "    Total Revenue:Total revenue is the amount of money a company brings in from selling its goods and services. \n",
        "    Total Cost:Total cost refers to the total expense incurred in reaching a particular level of output\n",
        "    Total Profit:Profit is determined by subtracting Total Revenue and Total Cost from all sales earned. "
      ]
    },
    {
      "cell_type": "markdown",
      "id": "577fb4ad",
      "metadata": {
        "id": "577fb4ad"
      },
      "source": [
        "Now, Lets check the data set in details"
      ]
    },
    {
      "cell_type": "code",
      "execution_count": null,
      "id": "e673351d",
      "metadata": {
        "id": "e673351d",
        "outputId": "6a3c355d-fb34-4857-dbad-64894ae1a4a3"
      },
      "outputs": [
        {
          "data": {
            "text/plain": [
              "(100, 14)"
            ]
          },
          "execution_count": 3,
          "metadata": {},
          "output_type": "execute_result"
        }
      ],
      "source": [
        "# Shape of data set\n",
        "data.shape"
      ]
    },
    {
      "cell_type": "code",
      "execution_count": null,
      "id": "e7da019d",
      "metadata": {
        "id": "e7da019d",
        "outputId": "dd052ff1-5d51-4cfe-9137-c315ab079c92"
      },
      "outputs": [
        {
          "data": {
            "text/plain": [
              "RangeIndex(start=0, stop=100, step=1)"
            ]
          },
          "execution_count": 4,
          "metadata": {},
          "output_type": "execute_result"
        }
      ],
      "source": [
        "# Rows of the dataset\n",
        "data.index"
      ]
    },
    {
      "cell_type": "code",
      "execution_count": null,
      "id": "6ea382c8",
      "metadata": {
        "id": "6ea382c8",
        "outputId": "41f4f8bf-ae28-4eeb-dfdc-442e259ae1ee"
      },
      "outputs": [
        {
          "data": {
            "text/plain": [
              "Index(['Region', 'Country', 'Item Type', 'Sales Channel', 'Order Priority',\n",
              "       'Order Date', 'Order ID', 'Ship Date', 'Units Sold', 'Unit Price',\n",
              "       'Unit Cost', 'Total Revenue', 'Total Cost', 'Total Profit'],\n",
              "      dtype='object')"
            ]
          },
          "execution_count": 5,
          "metadata": {},
          "output_type": "execute_result"
        }
      ],
      "source": [
        "# Columns of the dataset\n",
        "data.columns"
      ]
    },
    {
      "cell_type": "code",
      "execution_count": null,
      "id": "efc043ca",
      "metadata": {
        "id": "efc043ca",
        "outputId": "99fe833a-ed16-4334-bf9b-0dd70e9f9839"
      },
      "outputs": [
        {
          "name": "stdout",
          "output_type": "stream",
          "text": [
            "<class 'pandas.core.frame.DataFrame'>\n",
            "RangeIndex: 100 entries, 0 to 99\n",
            "Data columns (total 14 columns):\n",
            " #   Column          Non-Null Count  Dtype  \n",
            "---  ------          --------------  -----  \n",
            " 0   Region          100 non-null    object \n",
            " 1   Country         100 non-null    object \n",
            " 2   Item Type       100 non-null    object \n",
            " 3   Sales Channel   100 non-null    object \n",
            " 4   Order Priority  100 non-null    object \n",
            " 5   Order Date      100 non-null    object \n",
            " 6   Order ID        100 non-null    int64  \n",
            " 7   Ship Date       100 non-null    object \n",
            " 8   Units Sold      100 non-null    int64  \n",
            " 9   Unit Price      100 non-null    float64\n",
            " 10  Unit Cost       100 non-null    float64\n",
            " 11  Total Revenue   100 non-null    float64\n",
            " 12  Total Cost      100 non-null    float64\n",
            " 13  Total Profit    100 non-null    float64\n",
            "dtypes: float64(5), int64(2), object(7)\n",
            "memory usage: 11.1+ KB\n"
          ]
        }
      ],
      "source": [
        "# Get the datatypes of each columns number of records in each column.\n",
        "data.info()"
      ]
    },
    {
      "cell_type": "markdown",
      "id": "05517e4f",
      "metadata": {
        "id": "05517e4f"
      },
      "source": [
        "Some columns are in wrong format, so now we have to convert them into there correct format"
      ]
    },
    {
      "cell_type": "code",
      "execution_count": null,
      "id": "0ac36f6d",
      "metadata": {
        "id": "0ac36f6d"
      },
      "outputs": [],
      "source": [
        "data['Order Date'] = pd.to_datetime(data['Order Date'])\n",
        "data['Ship Date'] = pd.to_datetime(data['Ship Date'])"
      ]
    },
    {
      "cell_type": "code",
      "execution_count": null,
      "id": "f2a83f1e",
      "metadata": {
        "id": "f2a83f1e",
        "outputId": "5613ae73-4b0d-48cd-cecf-d86ae9147ed1"
      },
      "outputs": [
        {
          "name": "stdout",
          "output_type": "stream",
          "text": [
            "<class 'pandas.core.frame.DataFrame'>\n",
            "RangeIndex: 100 entries, 0 to 99\n",
            "Data columns (total 14 columns):\n",
            " #   Column          Non-Null Count  Dtype         \n",
            "---  ------          --------------  -----         \n",
            " 0   Region          100 non-null    object        \n",
            " 1   Country         100 non-null    object        \n",
            " 2   Item Type       100 non-null    object        \n",
            " 3   Sales Channel   100 non-null    object        \n",
            " 4   Order Priority  100 non-null    object        \n",
            " 5   Order Date      100 non-null    datetime64[ns]\n",
            " 6   Order ID        100 non-null    int64         \n",
            " 7   Ship Date       100 non-null    datetime64[ns]\n",
            " 8   Units Sold      100 non-null    int64         \n",
            " 9   Unit Price      100 non-null    float64       \n",
            " 10  Unit Cost       100 non-null    float64       \n",
            " 11  Total Revenue   100 non-null    float64       \n",
            " 12  Total Cost      100 non-null    float64       \n",
            " 13  Total Profit    100 non-null    float64       \n",
            "dtypes: datetime64[ns](2), float64(5), int64(2), object(5)\n",
            "memory usage: 11.1+ KB\n"
          ]
        }
      ],
      "source": [
        "data.info()"
      ]
    },
    {
      "cell_type": "markdown",
      "id": "55a6dedd",
      "metadata": {
        "id": "55a6dedd"
      },
      "source": [
        "# Now each columns have there datatypes according their entries they have\n",
        "There are : 2 - datetime64 colimns\n",
        "            5 - Float columns\n",
        "            2 - integer columns\n",
        "            5 - String columns "
      ]
    },
    {
      "cell_type": "code",
      "execution_count": null,
      "id": "1c6ca4a5",
      "metadata": {
        "id": "1c6ca4a5",
        "outputId": "7b71592e-b5ed-482a-856c-d46d712d14ca"
      },
      "outputs": [
        {
          "data": {
            "text/html": [
              "<div>\n",
              "<style scoped>\n",
              "    .dataframe tbody tr th:only-of-type {\n",
              "        vertical-align: middle;\n",
              "    }\n",
              "\n",
              "    .dataframe tbody tr th {\n",
              "        vertical-align: top;\n",
              "    }\n",
              "\n",
              "    .dataframe thead th {\n",
              "        text-align: right;\n",
              "    }\n",
              "</style>\n",
              "<table border=\"1\" class=\"dataframe\">\n",
              "  <thead>\n",
              "    <tr style=\"text-align: right;\">\n",
              "      <th></th>\n",
              "      <th>Order ID</th>\n",
              "      <th>Units Sold</th>\n",
              "      <th>Unit Price</th>\n",
              "      <th>Unit Cost</th>\n",
              "      <th>Total Revenue</th>\n",
              "      <th>Total Cost</th>\n",
              "      <th>Total Profit</th>\n",
              "    </tr>\n",
              "  </thead>\n",
              "  <tbody>\n",
              "    <tr>\n",
              "      <th>count</th>\n",
              "      <td>1.000000e+02</td>\n",
              "      <td>100.000000</td>\n",
              "      <td>100.000000</td>\n",
              "      <td>100.000000</td>\n",
              "      <td>1.000000e+02</td>\n",
              "      <td>1.000000e+02</td>\n",
              "      <td>1.000000e+02</td>\n",
              "    </tr>\n",
              "    <tr>\n",
              "      <th>mean</th>\n",
              "      <td>5.550204e+08</td>\n",
              "      <td>5128.710000</td>\n",
              "      <td>276.761300</td>\n",
              "      <td>191.048000</td>\n",
              "      <td>1.373488e+06</td>\n",
              "      <td>9.318057e+05</td>\n",
              "      <td>4.416820e+05</td>\n",
              "    </tr>\n",
              "    <tr>\n",
              "      <th>std</th>\n",
              "      <td>2.606153e+08</td>\n",
              "      <td>2794.484562</td>\n",
              "      <td>235.592241</td>\n",
              "      <td>188.208181</td>\n",
              "      <td>1.460029e+06</td>\n",
              "      <td>1.083938e+06</td>\n",
              "      <td>4.385379e+05</td>\n",
              "    </tr>\n",
              "    <tr>\n",
              "      <th>min</th>\n",
              "      <td>1.146066e+08</td>\n",
              "      <td>124.000000</td>\n",
              "      <td>9.330000</td>\n",
              "      <td>6.920000</td>\n",
              "      <td>4.870260e+03</td>\n",
              "      <td>3.612240e+03</td>\n",
              "      <td>1.258020e+03</td>\n",
              "    </tr>\n",
              "    <tr>\n",
              "      <th>25%</th>\n",
              "      <td>3.389225e+08</td>\n",
              "      <td>2836.250000</td>\n",
              "      <td>81.730000</td>\n",
              "      <td>35.840000</td>\n",
              "      <td>2.687212e+05</td>\n",
              "      <td>1.688680e+05</td>\n",
              "      <td>1.214436e+05</td>\n",
              "    </tr>\n",
              "    <tr>\n",
              "      <th>50%</th>\n",
              "      <td>5.577086e+08</td>\n",
              "      <td>5382.500000</td>\n",
              "      <td>179.880000</td>\n",
              "      <td>107.275000</td>\n",
              "      <td>7.523144e+05</td>\n",
              "      <td>3.635664e+05</td>\n",
              "      <td>2.907680e+05</td>\n",
              "    </tr>\n",
              "    <tr>\n",
              "      <th>75%</th>\n",
              "      <td>7.907551e+08</td>\n",
              "      <td>7369.000000</td>\n",
              "      <td>437.200000</td>\n",
              "      <td>263.330000</td>\n",
              "      <td>2.212045e+06</td>\n",
              "      <td>1.613870e+06</td>\n",
              "      <td>6.358288e+05</td>\n",
              "    </tr>\n",
              "    <tr>\n",
              "      <th>max</th>\n",
              "      <td>9.940222e+08</td>\n",
              "      <td>9925.000000</td>\n",
              "      <td>668.270000</td>\n",
              "      <td>524.960000</td>\n",
              "      <td>5.997055e+06</td>\n",
              "      <td>4.509794e+06</td>\n",
              "      <td>1.719922e+06</td>\n",
              "    </tr>\n",
              "  </tbody>\n",
              "</table>\n",
              "</div>"
            ],
            "text/plain": [
              "           Order ID   Units Sold  Unit Price   Unit Cost  Total Revenue  \\\n",
              "count  1.000000e+02   100.000000  100.000000  100.000000   1.000000e+02   \n",
              "mean   5.550204e+08  5128.710000  276.761300  191.048000   1.373488e+06   \n",
              "std    2.606153e+08  2794.484562  235.592241  188.208181   1.460029e+06   \n",
              "min    1.146066e+08   124.000000    9.330000    6.920000   4.870260e+03   \n",
              "25%    3.389225e+08  2836.250000   81.730000   35.840000   2.687212e+05   \n",
              "50%    5.577086e+08  5382.500000  179.880000  107.275000   7.523144e+05   \n",
              "75%    7.907551e+08  7369.000000  437.200000  263.330000   2.212045e+06   \n",
              "max    9.940222e+08  9925.000000  668.270000  524.960000   5.997055e+06   \n",
              "\n",
              "         Total Cost  Total Profit  \n",
              "count  1.000000e+02  1.000000e+02  \n",
              "mean   9.318057e+05  4.416820e+05  \n",
              "std    1.083938e+06  4.385379e+05  \n",
              "min    3.612240e+03  1.258020e+03  \n",
              "25%    1.688680e+05  1.214436e+05  \n",
              "50%    3.635664e+05  2.907680e+05  \n",
              "75%    1.613870e+06  6.358288e+05  \n",
              "max    4.509794e+06  1.719922e+06  "
            ]
          },
          "execution_count": 12,
          "metadata": {},
          "output_type": "execute_result"
        }
      ],
      "source": [
        "#Describe statistics of data\n",
        "data.describe()\n"
      ]
    },
    {
      "cell_type": "markdown",
      "id": "fd7640f3",
      "metadata": {
        "id": "fd7640f3"
      },
      "source": [
        "Lets check Null(nan) values in dataset"
      ]
    },
    {
      "cell_type": "code",
      "execution_count": null,
      "id": "fc9e9cb2",
      "metadata": {
        "id": "fc9e9cb2",
        "outputId": "30a22ce5-36a6-49d8-acd6-7928bfd38d4a"
      },
      "outputs": [
        {
          "data": {
            "text/plain": [
              "Region            0\n",
              "Country           0\n",
              "Item Type         0\n",
              "Sales Channel     0\n",
              "Order Priority    0\n",
              "Order Date        0\n",
              "Order ID          0\n",
              "Ship Date         0\n",
              "Units Sold        0\n",
              "Unit Price        0\n",
              "Unit Cost         0\n",
              "Total Revenue     0\n",
              "Total Cost        0\n",
              "Total Profit      0\n",
              "dtype: int64"
            ]
          },
          "execution_count": 13,
          "metadata": {},
          "output_type": "execute_result"
        }
      ],
      "source": [
        "data.isnull().sum()"
      ]
    },
    {
      "cell_type": "markdown",
      "id": "7f3288e3",
      "metadata": {
        "id": "7f3288e3"
      },
      "source": [
        "We don't have  any null values in the dataset."
      ]
    },
    {
      "cell_type": "code",
      "execution_count": null,
      "id": "2eb1cda7",
      "metadata": {
        "id": "2eb1cda7",
        "outputId": "427e4a1e-f0c3-4db8-b95b-4356756fa68f"
      },
      "outputs": [
        {
          "data": {
            "text/html": [
              "<div>\n",
              "<style scoped>\n",
              "    .dataframe tbody tr th:only-of-type {\n",
              "        vertical-align: middle;\n",
              "    }\n",
              "\n",
              "    .dataframe tbody tr th {\n",
              "        vertical-align: top;\n",
              "    }\n",
              "\n",
              "    .dataframe thead th {\n",
              "        text-align: right;\n",
              "    }\n",
              "</style>\n",
              "<table border=\"1\" class=\"dataframe\">\n",
              "  <thead>\n",
              "    <tr style=\"text-align: right;\">\n",
              "      <th></th>\n",
              "      <th>Region</th>\n",
              "      <th>Country</th>\n",
              "      <th>Item Type</th>\n",
              "      <th>Sales Channel</th>\n",
              "      <th>Order Priority</th>\n",
              "      <th>Order Date</th>\n",
              "      <th>Order ID</th>\n",
              "      <th>Ship Date</th>\n",
              "      <th>Units Sold</th>\n",
              "      <th>Unit Price</th>\n",
              "      <th>Unit Cost</th>\n",
              "      <th>Total Revenue</th>\n",
              "      <th>Total Cost</th>\n",
              "      <th>Total Profit</th>\n",
              "    </tr>\n",
              "  </thead>\n",
              "  <tbody>\n",
              "  </tbody>\n",
              "</table>\n",
              "</div>"
            ],
            "text/plain": [
              "Empty DataFrame\n",
              "Columns: [Region, Country, Item Type, Sales Channel, Order Priority, Order Date, Order ID, Ship Date, Units Sold, Unit Price, Unit Cost, Total Revenue, Total Cost, Total Profit]\n",
              "Index: []"
            ]
          },
          "execution_count": 9,
          "metadata": {},
          "output_type": "execute_result"
        }
      ],
      "source": [
        "dup = data[data.duplicated()]\n",
        "dup"
      ]
    },
    {
      "cell_type": "markdown",
      "id": "47de119e",
      "metadata": {
        "id": "47de119e"
      },
      "source": [
        "# Removing outliers\n",
        "Sometimes a dataset can contain extreme values that are outside the range of what is expected\n",
        "and unlike the other data"
      ]
    },
    {
      "cell_type": "code",
      "execution_count": null,
      "id": "851f6959",
      "metadata": {
        "id": "851f6959",
        "outputId": "629a4631-18bf-4461-f71e-bdea5be8aa07"
      },
      "outputs": [
        {
          "data": {
            "image/png": "[encoded data removed]",
            "text/plain": [
              "<Figure size 1152x360 with 1 Axes>"
            ]
          },
          "metadata": {
            "needs_background": "light"
          },
          "output_type": "display_data"
        }
      ],
      "source": [
        "plt.figure(figsize=(16,5))\n",
        "data.boxplot()\n",
        "plt.show()"
      ]
    },
    {
      "cell_type": "markdown",
      "id": "bce2dbd5",
      "metadata": {
        "id": "bce2dbd5"
      },
      "source": [
        "Observations:\n",
        "\n",
        "    In our data set, Outliers are not present"
      ]
    },
    {
      "cell_type": "markdown",
      "id": "fa241495",
      "metadata": {
        "id": "fa241495"
      },
      "source": [
        "# Data Visualizations "
      ]
    },
    {
      "cell_type": "code",
      "execution_count": null,
      "id": "185bc12d",
      "metadata": {
        "id": "185bc12d",
        "outputId": "faa88c6a-38e1-4d81-e813-e9a96a1d1c1d"
      },
      "outputs": [
        {
          "name": "stdout",
          "output_type": "stream",
          "text": [
            "               Order ID  Units Sold  Unit Price  Unit Cost  Total Revenue  \\\n",
            "Order ID       1.000000   -0.222907   -0.190941  -0.213201      -0.314688   \n",
            "Units Sold    -0.222907    1.000000   -0.070486  -0.092232       0.447784   \n",
            "Unit Price    -0.190941   -0.070486    1.000000   0.987270       0.752360   \n",
            "Unit Cost     -0.213201   -0.092232    0.987270   1.000000       0.715623   \n",
            "Total Revenue -0.314688    0.447784    0.752360   0.715623       1.000000   \n",
            "Total Cost    -0.328944    0.374746    0.787905   0.774895       0.983928   \n",
            "Total Profit  -0.234638    0.564550    0.557365   0.467214       0.897327   \n",
            "\n",
            "               Total Cost  Total Profit  \n",
            "Order ID        -0.328944     -0.234638  \n",
            "Units Sold       0.374746      0.564550  \n",
            "Unit Price       0.787905      0.557365  \n",
            "Unit Cost        0.774895      0.467214  \n",
            "Total Revenue    0.983928      0.897327  \n",
            "Total Cost       1.000000      0.804091  \n",
            "Total Profit     0.804091      1.000000  \n"
          ]
        }
      ],
      "source": [
        "#find the correlation of features of the data\n",
        "corr = data.corr()\n",
        "# print corr\n",
        "print(corr)"
      ]
    },
    {
      "cell_type": "code",
      "execution_count": null,
      "id": "515d9ff7",
      "metadata": {
        "id": "515d9ff7",
        "outputId": "2b01904e-1936-4f93-8a88-290fb72f91cd"
      },
      "outputs": [
        {
          "data": {
            "image/png": "[encoded data removed]",
            "text/plain": [
              "<Figure size 792x432 with 2 Axes>"
            ]
          },
          "metadata": {
            "needs_background": "light"
          },
          "output_type": "display_data"
        }
      ],
      "source": [
        "plt.figure(figsize = (11,6))\n",
        "sns.heatmap(corr,annot = True,linewidth = 2)\n",
        "plt.title(\"correlation between values\",fontsize = 20)\n",
        "plt.show()"
      ]
    },
    {
      "cell_type": "code",
      "execution_count": null,
      "id": "19c67349",
      "metadata": {
        "id": "19c67349",
        "outputId": "ace39332-3488-48f3-9cee-8d592beb2260"
      },
      "outputs": [
        {
          "data": {
            "text/plain": [
              "<matplotlib.collections.PathCollection at 0x205c59ce730>"
            ]
          },
          "execution_count": 17,
          "metadata": {},
          "output_type": "execute_result"
        },
        {
          "data": {
            "image/png": "[encoded data removed]",
            "text/plain": [
              "<Figure size 432x288 with 1 Axes>"
            ]
          },
          "metadata": {
            "needs_background": "light"
          },
          "output_type": "display_data"
        }
      ],
      "source": [
        "plt.scatter(data['Total Profit'],data['Total Revenue'])"
      ]
    },
    {
      "cell_type": "code",
      "execution_count": null,
      "id": "8a5ab893",
      "metadata": {
        "id": "8a5ab893"
      },
      "outputs": [],
      "source": [
        "# The scatter plot also suggests that total profit and total revenue are directly proportional to each other."
      ]
    }
  ],
  "metadata": {
    "kernelspec": {
      "display_name": "Python 3 (ipykernel)",
      "language": "python",
      "name": "python3"
    },
    "language_info": {
      "codemirror_mode": {
        "name": "ipython",
        "version": 3
      },
      "file_extension": ".py",
      "mimetype": "text/x-python",
      "name": "python",
      "nbconvert_exporter": "python",
      "pygments_lexer": "ipython3",
      "version": "3.9.7"
    },
    "colab": {
      "provenance": []
    }
  },
  "nbformat": 4,
  "nbformat_minor": 5
}